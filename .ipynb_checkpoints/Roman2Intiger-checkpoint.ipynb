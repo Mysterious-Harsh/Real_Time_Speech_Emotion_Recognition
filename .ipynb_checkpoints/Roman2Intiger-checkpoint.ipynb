{
 "cells": [
  {
   "cell_type": "code",
   "execution_count": 16,
   "id": "a90fbcc3-a214-4ad2-ab9e-1d3a31f70961",
   "metadata": {},
   "outputs": [],
   "source": [
    "def roman_to_int(rom):\n",
    "    sym = {'I': 1, 'V': 5, 'X': 10, 'L': 50, 'C': 100, 'D': 500, 'M': 1000}\n",
    "    rom = rom.upper()\n",
    "    print(rom)\n",
    "    intiger = 0\n",
    "    try:\n",
    "        if (len(rom) == 2) and (sym[rom[0]] < sym[rom[1]]):\n",
    "            return sym[rom[1]] - sym[rom[0]]\n",
    "        for c in rom:\n",
    "            intiger += sym[c]\n",
    "    except Exception as e:\n",
    "        return \"Invalid Roman\"\n",
    "\n",
    "    return intiger"
   ]
  },
  {
   "cell_type": "code",
   "execution_count": 21,
   "id": "ef089e00-1181-4b5c-a8da-6b6f5512b2ed",
   "metadata": {},
   "outputs": [
    {
     "name": "stdout",
     "output_type": "stream",
     "text": [
      "LVIII\n"
     ]
    },
    {
     "data": {
      "text/plain": [
       "58"
      ]
     },
     "execution_count": 21,
     "metadata": {},
     "output_type": "execute_result"
    }
   ],
   "source": [
    "roman_to_int('LVIII')"
   ]
  },
  {
   "cell_type": "code",
   "execution_count": null,
   "id": "f813ebd5-1e26-4500-b3aa-6c6d446c195a",
   "metadata": {},
   "outputs": [],
   "source": []
  }
 ],
 "metadata": {
  "kernelspec": {
   "display_name": "Python 3 (ipykernel)",
   "language": "python",
   "name": "python3"
  },
  "language_info": {
   "codemirror_mode": {
    "name": "ipython",
    "version": 3
   },
   "file_extension": ".py",
   "mimetype": "text/x-python",
   "name": "python",
   "nbconvert_exporter": "python",
   "pygments_lexer": "ipython3",
   "version": "3.9.12"
  }
 },
 "nbformat": 4,
 "nbformat_minor": 5
}
